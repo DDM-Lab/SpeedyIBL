{
  "nbformat": 4,
  "nbformat_minor": 0,
  "metadata": {
    "colab": {
      "name": "tutorial-speedyibl.ipynb",
      "provenance": [],
      "collapsed_sections": []
    },
    "kernelspec": {
      "name": "python3",
      "display_name": "Python 3"
    },
    "language_info": {
      "name": "python"
    }
  },
  "cells": [
    {
      "cell_type": "markdown",
      "source": [
        "#Tutorial of SpeedyIBL based on Instance Based Learning Theory (IBLT)\n",
        "\n",
        "In an attempt to increase the usage of SpeedyIBL, we hereby provide a tutorial on how to install and use the SpeedyIBL library. Specifically, we explain how to build an IBL agent, and elaborate on the meaning of associated inputs and functions. Afterwards, we present worked examples on two illustrative tasks:  Binary Choice and Navigation. It is worth noting that all the codes to run all the tasks and to replicate the results presented in the paper are available at https://github.com/DDM-Lab/SpeedyIBL. Finally, for the reproducibility purpose, we give an example on how to reproduce all the reported results using PyIBL and SpeedyIBL. In addition, we provide a Jupyter notebook file of the turorial, see https://github.com/DDM-Lab/SpeedyIBL/blob/main/tutorial_speedyibl.ipynb, for running the aforementioned tasks using SpeedyIBL. We also can run this file on Google Colab https://colab.research.google.com/github/nhatpd/SpeedyIBL/blob/main/tutorial_speedyibl.ipynb without installing Python on personal computers. "
      ],
      "metadata": {
        "id": "Dlax-dzTZDTg"
      }
    },
    {
      "cell_type": "markdown",
      "source": [
        "##Installing SpeedyIBL\n",
        "Note that the speedyibl library is a Python module, which is stored at PyPI (pypi.org), a repository of software for the Python programming language, see https://pypi.org/project/speedyibl/. Hence, installing SpeedyIBL is a very simple process. Indeed, one can install SpeedyIBL by simply typing at the command line:\n"
      ],
      "metadata": {
        "id": "q15DheVPZYUm"
      }
    },
    {
      "cell_type": "code",
      "source": [
        "pip install speedyibl"
      ],
      "metadata": {
        "id": "kGoPYwW6Z5v5",
        "colab": {
          "base_uri": "https://localhost:8080/"
        },
        "outputId": "c6850552-1fcb-4f75-c0cc-d28e409ec003"
      },
      "execution_count": null,
      "outputs": [
        {
          "output_type": "stream",
          "name": "stdout",
          "text": [
            "Collecting speedyibl\n",
            "  Downloading speedyibl-0.1.7-py3-none-any.whl (3.4 kB)\n",
            "Requirement already satisfied: setuptools>=42 in /usr/local/lib/python3.7/dist-packages (from speedyibl) (57.4.0)\n",
            "Requirement already satisfied: wheel in /usr/local/lib/python3.7/dist-packages (from speedyibl) (0.37.1)\n",
            "Requirement already satisfied: tabulate in /usr/local/lib/python3.7/dist-packages (from speedyibl) (0.8.9)\n",
            "Requirement already satisfied: numpy in /usr/local/lib/python3.7/dist-packages (from speedyibl) (1.21.5)\n",
            "Installing collected packages: speedyibl\n",
            "Successfully installed speedyibl-0.1.7\n"
          ]
        }
      ]
    },
    {
      "cell_type": "markdown",
      "source": [
        "#Importing and describing the class Agent of SpeedyIBL\n",
        "\n",
        "After installing the library, we need to import the class Agent of SpeedyIBL by typing:"
      ],
      "metadata": {
        "id": "gI9OqxTulvbD"
      }
    },
    {
      "cell_type": "code",
      "source": [
        "from speedyibl import Agent "
      ],
      "metadata": {
        "id": "I2PAOXX16b-n"
      },
      "execution_count": null,
      "outputs": []
    },
    {
      "cell_type": "markdown",
      "source": [
        "We provide the descriptions of the inputs and main functions of the class Agent in the following tables.\n",
        "\n",
        "```markdown\n",
        "Inputs         | Type          | Description \n",
        "---------------|---------------|-------------------------------------------------------\n",
        "efault_utility | float         | initial utility value for each instance, default = 0.1\n",
        "noise          | float         | noise parameter sigma, default  = 0.25\n",
        "decay          | float         |  decay paremeter d, default = 0.5\n",
        "mismatchPenalty| None or float | mismatch penalty parameter, default = None (without partial matching process)\n",
        "lendeque       | None or int   | maximum size of a deque for each instance that contains \n",
        "                                 timestamps or  None if unbounded, default = 250000\n",
        "------------------------------------------------------------------------------------------\n",
        "\n",
        "Inputs               | Type                      | Description \n",
        "---------------------|---------------------------|-----------------------------------------\n",
        "choose               | list of options           | choose one option from the given list of options\n",
        "respond              | reward                    | add the current timestamp to the instance\n",
        "                                                   of the last option and this reward\n",
        "prepopulate          | option, reward            | initialize time 0 for the instance of this option and reward\n",
        "populate_at          | option, reward, time      | add time to the instance of this option and reward\n",
        "equal_delay_feedback | reward, list of instances | update instances in the list by using this reward\n",
        "instances            | no input                  | show all the instances in the memory\n",
        "-------------------------------------------------------------------------------------------\n",
        "\n",
        "```"
      ],
      "metadata": {
        "id": "zYGYy6H0nTLO"
      }
    },
    {
      "cell_type": "markdown",
      "source": [
        "#Using SpeedyIBL for binary choice task\n",
        "\n",
        "From the list of inputs of the class Agent, although we need 5 inputs to create an IBL agent, by using the defaults for noise, decay, mismatchPenalty, and lendeque, we only need to pass the default_utility = 4.4. Hence we create an IBL agent for the binary choice task as follows:"
      ],
      "metadata": {
        "id": "2NaEPg_ksmPT"
      }
    },
    {
      "cell_type": "code",
      "source": [
        "agent = Agent(default_utility=4.4)"
      ],
      "metadata": {
        "id": "BJKpo7ijsuN5"
      },
      "execution_count": null,
      "outputs": []
    },
    {
      "cell_type": "markdown",
      "source": [
        "We then define a list of options for the agent to choose:"
      ],
      "metadata": {
        "id": "ljfEjOQEs284"
      }
    },
    {
      "cell_type": "code",
      "source": [
        "options = ['A','B'] # A is the safe option while B is the risky one"
      ],
      "metadata": {
        "id": "K6FYvqhqHLOj"
      },
      "execution_count": null,
      "outputs": []
    },
    {
      "cell_type": "markdown",
      "source": [
        "We are ready to make the agent choose one of the two options"
      ],
      "metadata": {
        "id": "M3LokGwFs-un"
      }
    },
    {
      "cell_type": "code",
      "source": [
        "choice = agent.choose(options)"
      ],
      "metadata": {
        "id": "izZ45hdhtCtz"
      },
      "execution_count": null,
      "outputs": []
    },
    {
      "cell_type": "markdown",
      "source": [
        "We now determine a reward that the agent can receive after choosing one option."
      ],
      "metadata": {
        "id": "Z0lIGvFjtGhx"
      }
    },
    {
      "cell_type": "code",
      "source": [
        "import random \n",
        "if choice == 'A':\n",
        "  reward = 3\n",
        "elif random.random() <= 0.8:\n",
        "  reward = 4\n",
        "else:\n",
        "  reward = 0"
      ],
      "metadata": {
        "id": "6KG_pbiotOFw"
      },
      "execution_count": null,
      "outputs": []
    },
    {
      "cell_type": "markdown",
      "source": [
        "After choosing one option and observing the reward, we use the function respond, see the table above, to store the instance in the memory as follows:"
      ],
      "metadata": {
        "id": "b3tZcmuTtc7D"
      }
    },
    {
      "cell_type": "code",
      "source": [
        "agent.respond(reward)"
      ],
      "metadata": {
        "id": "1M8Xl-R8tfmJ"
      },
      "execution_count": null,
      "outputs": []
    },
    {
      "cell_type": "markdown",
      "source": [
        "We have run one trial for the binary choice task, which includes choosing one option, observing the reward, storing the instance (respond). To conduct 1000 runs of 100 trials, we use two for loops as follows:"
      ],
      "metadata": {
        "id": "VJen-j2jtl-D"
      }
    },
    {
      "cell_type": "code",
      "source": [
        "import time # to calculate time\n",
        "runs = 1000 # number of runs (participants)\n",
        "trials = 100 # number of trials (episodes)\n",
        "average_p = [] # to store average of performance (proportion of maximum reward expectation choice)\n",
        "average_time = [] # to save time \n",
        "for r in range(runs):\n",
        "  pmax = []\n",
        "  ttime = [0]\n",
        "  agent.reset() #clear the memory for a new run\n",
        "  for i in range(trials):     \n",
        "    start = time.time()\n",
        "    choice = agent.choose(options) # choose one option from the list of two\n",
        "    # determine the reward that agent can receive\n",
        "    if choice == 'A':\n",
        "      reward = 3\n",
        "    elif random.random() <= 0.8:\n",
        "      reward = 4\n",
        "    else:\n",
        "      reward = 0\n",
        "    # store the instance\n",
        "    agent.respond(reward)\n",
        "    end = time.time()\n",
        "    ttime.append(ttime[-1]+ end - start)\n",
        "    pmax.append(choice == 'B') \n",
        "  average_p.append(pmax) # save performance of each run \n",
        "  average_time.append(ttime) # save time of each run "
      ],
      "metadata": {
        "id": "5FP8OFk-tt-i"
      },
      "execution_count": null,
      "outputs": []
    },
    {
      "cell_type": "markdown",
      "source": [
        "We also provide the following code to plot the running time and performance of this SpeedyIBL agent"
      ],
      "metadata": {
        "id": "YaGtEPIJt7qb"
      }
    },
    {
      "cell_type": "code",
      "source": [
        "import matplotlib.pyplot as plt\n",
        "import numpy as np \n",
        "plt.rcParams[\"figure.figsize\"] = (12,4)\n",
        "plt.subplot(int('12'+str(1)))\n",
        "plt.plot(range(trials+1), np.mean(np.asarray(average_time),axis=0), 'o-', color='darkgreen', markersize=2, linestyle='--', label='speedyIBL')\n",
        "plt.xlabel('Round')\n",
        "plt.ylabel('Time (s)')\n",
        "plt.title('Runing time')\n",
        "plt.legend()\n",
        "plt.subplot(int('12'+str(2)))\n",
        "plt.plot(range(trials), np.mean(np.asarray(average_p),axis=0), 'o-', color='darkgreen', markersize=2, linestyle='--', label='speedyIBL')\n",
        "plt.xlabel('Round')\n",
        "plt.ylabel('PMAX')\n",
        "plt.title('Performance')\n",
        "plt.legend()\n",
        "plt.grid(True)\n",
        "plt.show()"
      ],
      "metadata": {
        "id": "XUN2fFRML3X4",
        "colab": {
          "base_uri": "https://localhost:8080/",
          "height": 295
        },
        "outputId": "7e36cce8-8d6e-4284-c92f-47ee71b32565"
      },
      "execution_count": null,
      "outputs": [
        {
          "output_type": "display_data",
          "data": {
            "image/png": "[encoded data removed]",
            "text/plain": [
              "<Figure size 864x288 with 2 Axes>"
            ]
          },
          "metadata": {
            "needs_background": "light"
          }
        }
      ]
    },
    {
      "cell_type": "markdown",
      "source": [
        "We also would like to note that the codes of both SpeedyIBL and PyIBL for generating the results of the binary choice task in the paper are available at https://github.com/DDM-Lab/SpeedyIBL/blob/main/Codes/binarychoice.py. To plot the results, please see https://github.com/DDM-Lab/SpeedyIBL/blob/main/Codes/plot_results.ipynb. "
      ],
      "metadata": {
        "id": "S0a25XuBuO-w"
      }
    },
    {
      "cell_type": "markdown",
      "source": [
        "#Using SpeedyIBL for Cooperative Navigation task\n",
        "\n",
        "First, let us build an environment class of the navigation task. Although constructing an environment depends on specific tasks, it consists of two main functions: reset and step. The reset function sets the agents to their starting locations at beginning of each episode while the step function moves the agents to new locations and returns a new state, reward, and task status (task finished or not) after they made decisions."
      ],
      "metadata": {
        "id": "-jmodnd_uZvQ"
      }
    },
    {
      "cell_type": "code",
      "source": [
        "import numpy as np\n",
        "import copy\n",
        "class Environment(object):\n",
        "  def __init__(self):\n",
        "    #Initialize elements if the task including size of grid-world, number of agents, pixel values of agents, landmark, initial locations of agents and landmarks \n",
        "    self.GH = 16 #height of grid world\n",
        "    self.GW = 16 #width of grid world\n",
        "    self.NUMBER_OF_AGENTS = 3 #number of agents\n",
        "    self.AGENTS = [240.0, 200.0, 150] #pixel values of [Agent1, Agent2, Agent3]\n",
        "    self.LANDMARKS = [40, 50, 60] #pixel values of landmarks\n",
        "    self.AGENTS_X = [0, self.GW-1, 0] #x-coordinates of initial locations of agents\n",
        "    self.AGENTS_Y = [0, 0, self.GH-1]  #y-coordinates of initial locations of agents\n",
        "    MID = 8\n",
        "    self.LANDMARK_LOCATIONS = [(MID-2,MID-2),(MID+1,MID-2),(MID-2, MID+1)] #locations of landmarks\n",
        "    self.ACTIONS = 4 # move up, down, left, righ\n",
        "    \n",
        "  def reset(self):\n",
        "    # '''\n",
        "    # Reset everything. \n",
        "    # '''\n",
        "    self.s_t = np.zeros([self.GH,self.GW], dtype=np.float64) #create an array that represents states of the grid-world \n",
        "    # Agents and landmarks are initialised:\n",
        "    # Agent x and y positions can be set in the following lists.\n",
        "    self.agents_x = copy.deepcopy(self.AGENTS_X)\n",
        "    self.agents_y = copy.deepcopy(self.AGENTS_Y)\n",
        "    self.agent_status= [False for i in range(self.NUMBER_OF_AGENTS)]\n",
        "    #Set pixel values of agents\n",
        "    for i in range(self.NUMBER_OF_AGENTS):\n",
        "        self.s_t[self.agents_y[i]][self.agents_x[i]] += self.AGENTS[i]\n",
        "    #Initialize the landmarks in the environment\n",
        "    for l,p in zip(self.LANDMARK_LOCATIONS,self.LANDMARKS):\n",
        "      self.s_t[l[1]][l[0]] = p\n",
        "    self.reached_landmarks = []\n",
        "    return self.s_t\n",
        "  def step(self, actions):\n",
        "  # '''\n",
        "  # Change environment state based on actions.\n",
        "  # :param actions: List of integers providing actions for each agent\n",
        "  # '''\n",
        "    #Move agents according to actions.\n",
        "    for i in range(self.NUMBER_OF_AGENTS):\n",
        "      if not self.agent_status[i]:\n",
        "        dx, dy = self.getDelta(actions[i])\n",
        "        targetx = self.agents_x[i] + dx\n",
        "        targety = self.agents_y[i] + dy\n",
        "        if self.noCollision(targetx, targety):\n",
        "          self.s_t[self.agents_y[i]][self.agents_x[i]] -= self.AGENTS[i]\n",
        "          self.s_t[targety][targetx] += self.AGENTS[i]\n",
        "          self.agents_x[i] = targetx\n",
        "          self.agents_y[i] = targety\n",
        "          if (targetx,targety) in self.LANDMARK_LOCATIONS:\n",
        "            self.agent_status[i] = True\n",
        "            if (targetx,targety) not in self.reached_landmarks:\n",
        "              self.reached_landmarks.append((targetx,targety))\n",
        "    terminal = sum(self.agent_status) == 3\n",
        "    reward = len(self.reached_landmarks)\n",
        "    return self.s_t, reward, terminal \n",
        "\n",
        "  def getDelta(self, action):\n",
        "    # '''\n",
        "    # Determine the direction that the agent should take based upon the action selected. The actions are: 'Up':0, 'Right':1, 'Down':2, 'Left':3, :param action: int\n",
        "    # '''\n",
        "    if action == 0:\n",
        "      return 0, -1\n",
        "    elif action == 1:\n",
        "      return 1, 0    \n",
        "    elif action == 2:\n",
        "      return 0, 1    \n",
        "    elif action == 3:\n",
        "      return -1, 0\n",
        "    elif action == 4:\n",
        "      return 0, 0 \n",
        "  def noCollision(self, x, y):\n",
        "    # '''\n",
        "    # Checks if x, y coordinate is currently empty \n",
        "    # :param x: Int, x coordinate\n",
        "    # :param y: Int, y coordinate\n",
        "    # '''\n",
        "    if x < 0 or x >= self.GW or\\\n",
        "      y < 0 or y >= self.GH or\\\n",
        "      self.s_t[y][x] in self.AGENTS:\n",
        "      return False\n",
        "    else:\n",
        "      return True"
      ],
      "metadata": {
        "id": "rbjf-MNzSnuH"
      },
      "execution_count": null,
      "outputs": []
    },
    {
      "cell_type": "markdown",
      "source": [
        "Now, we can call the environment and reset it as follows:"
      ],
      "metadata": {
        "id": "1Z3QSyfjuyOh"
      }
    },
    {
      "cell_type": "code",
      "source": [
        "env = Environment()\n",
        "s = env.reset()"
      ],
      "metadata": {
        "id": "dui1ZZ_uuxrN"
      },
      "execution_count": null,
      "outputs": []
    },
    {
      "cell_type": "markdown",
      "source": [
        "Like the binary choice task, we define three agents with default\\_utility=2.5 ans save them in a list agents:"
      ],
      "metadata": {
        "id": "O-lfGNBzu2sG"
      }
    },
    {
      "cell_type": "code",
      "source": [
        "number_agents = 3\n",
        "agents = []\n",
        "episode_history = {}\n",
        "for i in range(number_agents): \n",
        "  agents.append(Agent(default_utility=2.5))\n",
        "  episode_history[i] = []"
      ],
      "metadata": {
        "id": "EEN_Kc-s4RU8"
      },
      "execution_count": null,
      "outputs": []
    },
    {
      "cell_type": "markdown",
      "source": [
        "Here, we have used a dictionary episode\\_history to save information of each episode that we will use for the delay feedback mechanism.  Next, we create a list of options"
      ],
      "metadata": {
        "id": "n93tqXihu8fC"
      }
    },
    {
      "cell_type": "code",
      "source": [
        "s_hash = hash(s.tobytes())\n",
        "options = [(s_hash, a) for a in range(env.ACTIONS)]"
      ],
      "metadata": {
        "id": "XeDFeCls9N99"
      },
      "execution_count": null,
      "outputs": []
    },
    {
      "cell_type": "markdown",
      "source": [
        "Here we have used the hash function to convert an array into a hashable object used as a key in a Python dictionary. Now we make the agents choose their options and save instances."
      ],
      "metadata": {
        "id": "A3khmE5qvCwi"
      }
    },
    {
      "cell_type": "code",
      "source": [
        "actions = [4,4,4]\n",
        "for i in range(number_agents):\n",
        "  if not env.agent_status[i]:\n",
        "    option = agents[i].choose(options)\n",
        "    actions[i] = option[1]\n",
        "    agents[i].respond(0)\n",
        "    episode_history[i].append((option[0],option[1],0,agents[i].t))\n"
      ],
      "metadata": {
        "id": "8tjpmAD6u0a_"
      },
      "execution_count": null,
      "outputs": []
    },
    {
      "cell_type": "markdown",
      "source": [
        "After choosing actions, the locations of the agents are updated in the environment by the step function:"
      ],
      "metadata": {
        "id": "gJPyV68wvUDj"
      }
    },
    {
      "cell_type": "code",
      "source": [
        "s, reward, t = env.step(actions)"
      ],
      "metadata": {
        "id": "vT-Hy9jhCKAh"
      },
      "execution_count": null,
      "outputs": []
    },
    {
      "cell_type": "markdown",
      "source": [
        "When the agents finish the task (reach landmarks, i.e., t = True) or they reach the maximum number of steps, we update outcomes of previous instances by an equal delay feedback mechanism."
      ],
      "metadata": {
        "id": "j_Z8vKWQvZ-t"
      }
    },
    {
      "cell_type": "code",
      "source": [
        "for i in range(number_agents):\n",
        "  agents[i].equal_delay_feedback(reward, episode_history[i])"
      ],
      "metadata": {
        "id": "EMzuDIlIFNET"
      },
      "execution_count": null,
      "outputs": []
    },
    {
      "cell_type": "markdown",
      "source": [
        "In order to run 100 times of 100 episodes with 2500 steps, we use three for loops below."
      ],
      "metadata": {
        "id": "DN2KcEvave-1"
      }
    },
    {
      "cell_type": "code",
      "source": [
        "import time # to calculate time\n",
        "runs = 100 # number of runs (participants)\n",
        "trials = 100 # number of trials (episodes)\n",
        "steps = 2500 # number of steps \n",
        "average_p = [] # to store average of performance (proportion of maximum reward expectation choice)\n",
        "average_time = [] # to save time \n",
        "\n",
        "for r in range(runs):\n",
        "  preward = []\n",
        "  ttime = [0]\n",
        "  #clear the memory for a new run\n",
        "  for i in range(number_agents): \n",
        "    agents[i].reset()\n",
        "  episode_history[i] = []\n",
        "  for e in range(trials):     \n",
        "    start = time.time()\n",
        "    s = env.reset()\n",
        "    # clear the previous episode\n",
        "    for i in range(number_agents): \n",
        "      episode_history[i] = []\n",
        "    for j in range(steps):\n",
        "      s_hash = hash(s.tobytes())\n",
        "      options = [(s_hash, a) for a in range(env.ACTIONS)]\n",
        "      # choose one option from the list\n",
        "      actions = [4,4,4]\n",
        "      for i in range(number_agents):\n",
        "        if not env.agent_status[i]:\n",
        "          option = agents[i].choose(options)\n",
        "          actions[i] = option[1]\n",
        "          agents[i].respond(0)\n",
        "          episode_history[i].append((option[0],option[1],0,agents[i].t)) # save information\n",
        "      s, reward, t = env.step(actions)\n",
        "      if t or j == steps-1:\n",
        "        for i in range(number_agents):\n",
        "          agents[i].equal_delay_feedback(reward, episode_history[i])\n",
        "        break \n",
        "    end = time.time()\n",
        "    ttime.append(ttime[-1]+ end - start)\n",
        "    preward.append(reward) \n",
        "  average_p.append(preward) # save performance of each run \n",
        "  average_time.append(ttime) # save time of each run "
      ],
      "metadata": {
        "id": "JyjUYsEcLofK"
      },
      "execution_count": null,
      "outputs": []
    },
    {
      "cell_type": "markdown",
      "source": [
        "We can use the same source code in the binary choice task to plot the results. We would like to remark that we created a Python module \\texttt{vitenv} containing all the environment in the paper, which is available at https://pypi.org/project/vitenv/. Codes of the environments of other tasks and this tutorial also available at our Github link. "
      ],
      "metadata": {
        "id": "LGTVtQboviQp"
      }
    },
    {
      "cell_type": "code",
      "source": [
        "import matplotlib.pyplot as plt\n",
        "plt.rcParams[\"figure.figsize\"] = (12,4)\n",
        "plt.subplot(int('12'+str(1)))\n",
        "plt.plot(range(trials+1), np.mean(np.asarray(average_time),axis=0), 'o-', color='darkgreen', markersize=2, linestyle='--', label='speedyIBL')\n",
        "plt.xlabel('Round')\n",
        "plt.ylabel('Time (s)')\n",
        "plt.title('Runing time')\n",
        "plt.legend()\n",
        "plt.subplot(int('12'+str(2)))\n",
        "plt.plot(range(trials), np.mean(np.asarray(average_p),axis=0), 'o-', color='darkgreen', markersize=2, linestyle='--', label='speedyIBL')\n",
        "plt.xlabel('Round')\n",
        "plt.ylabel('PMAX')\n",
        "plt.title('Performance')\n",
        "plt.legend()\n",
        "plt.grid(True)\n",
        "plt.show()"
      ],
      "metadata": {
        "colab": {
          "base_uri": "https://localhost:8080/",
          "height": 295
        },
        "id": "s2Wldzn7O_lI",
        "outputId": "f7f4171d-e680-4420-8ffb-b72e470dd342"
      },
      "execution_count": null,
      "outputs": [
        {
          "output_type": "display_data",
          "data": {
            "image/png": "[encoded data removed]",
            "text/plain": [
              "<Figure size 864x288 with 2 Axes>"
            ]
          },
          "metadata": {
            "needs_background": "light"
          }
        }
      ]
    },
    {
      "cell_type": "markdown",
      "source": [
        "#Reproducing Results\n",
        "\n",
        "All the results can be reproduced by running corresponding scripts for each task under folder **Codes**. In particular, to run the tasks with SpeedyIBL and PyIBL simply execute the following commands and the experiment will start."
      ],
      "metadata": {
        "id": "P0mhnCAdxdbG"
      }
    },
    {
      "cell_type": "markdown",
      "source": [
        "##Binary Choice Task\n",
        "```markdown\n",
        "python3 binarychoice.py --method [name]\n",
        "```\n",
        "\n",
        "With argument [name] is replaced by: libl for SpeedyIBL and ibl for PyIBL."
      ],
      "metadata": {
        "id": "uc65FcwVxqfu"
      }
    },
    {
      "cell_type": "markdown",
      "source": [
        "##Insider Attack Game\n",
        "```markdown\n",
        "python3 insider_attack_speedyIBL.py # to run SpeedyIBL\n",
        "python3 insider.py # to run PyIBL\n",
        "```"
      ],
      "metadata": {
        "id": "bpTe7_l5yODX"
      }
    },
    {
      "cell_type": "markdown",
      "source": [
        "##Minimap\n",
        "```markdown\n",
        "python3 minimap.py --type [name]\n",
        "```\n",
        "\n",
        "With argument [name] is replaced by: libl for SpeedyIBL and ibl for PyIBL. "
      ],
      "metadata": {
        "id": "Bfo3XkizyoT4"
      }
    },
    {
      "cell_type": "markdown",
      "source": [
        "##MisPac-man\n",
        "```markdown\n",
        "python3 mispacman.py --type [name]\n",
        "```\n",
        "\n",
        "With argument [name] is replaced by: libl for SpeedyIBL and ibl for PyIBL. "
      ],
      "metadata": {
        "id": "Ql9pIWyQzHPh"
      }
    },
    {
      "cell_type": "markdown",
      "source": [
        "##Fireman\n",
        "```markdown\n",
        "python3 fireman.py --type [name]\n",
        "```\n",
        "\n",
        "With argument [name] is replaced by: libl for SpeedyIBL and ibl for PyIBL. "
      ],
      "metadata": {
        "id": "rVeqCbpCzSi8"
      }
    },
    {
      "cell_type": "markdown",
      "source": [
        "##Cooperative Navigation\n",
        "```markdown\n",
        "python3 navigation.py --type [name]\n",
        "```\n",
        "\n",
        "With argument [name] is replaced by: libl for SpeedyIBL and ibl for PyIBL. "
      ],
      "metadata": {
        "id": "ZTcAXzpLzcoR"
      }
    }
  ]
}
