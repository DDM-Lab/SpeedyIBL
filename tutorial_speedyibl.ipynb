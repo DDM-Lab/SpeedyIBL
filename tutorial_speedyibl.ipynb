{
 "cells": [
  {
   "cell_type": "markdown",
   "metadata": {
    "colab_type": "text",
    "id": "view-in-github"
   },
   "source": [
    "<a href=\"https://colab.research.google.com/github/nhatpd/SpeedyIBL/blob/main/tutorial_speedyibl.ipynb\" target=\"_parent\"><img src=\"https://colab.research.google.com/assets/colab-badge.svg\" alt=\"Open In Colab\"/></a>"
   ]
  },
  {
   "cell_type": "markdown",
   "metadata": {
    "id": "Dlax-dzTZDTg"
   },
   "source": [
    "#Tutorial of SpeedyIBL based on Instance Based Learning Theory (IBLT)\n",
    "\n",
    "In an attempt to increase the usage of SpeedyIBL, we hereby provide a tutorial on how to install and use the SpeedyIBL library. Specifically, we explain how to build an IBL agent, and elaborate on the meaning of associated inputs and functions. Afterwards, we present worked examples on two illustrative tasks:  Binary Choice and Navigation. It is worth noting that all the codes to run all the tasks and to replicate the results presented in the paper are available at https://github.com/DDM-Lab/SpeedyIBL. Finally, for the reproducibility purpose, we give an example on how to reproduce all the reported results using PyIBL and SpeedyIBL. In addition, we provide a Jupyter notebook file of the turorial, see https://github.com/DDM-Lab/SpeedyIBL/blob/main/tutorial_speedyibl.ipynb, for running the aforementioned tasks using SpeedyIBL. We also can run this file on Google Colab https://colab.research.google.com/github/nhatpd/SpeedyIBL/blob/main/tutorial_speedyibl.ipynb without installing Python on personal computers. "
   ]
  },
  {
   "cell_type": "markdown",
   "metadata": {
    "id": "6IlHceb5h2zu"
   },
   "source": [
    "## References\n",
    "<b id=\"f1\">[1]</b> Cleotilde Gonzalez, Javier F. Lerch and Christian Lebiere (2003), [Instance-based learning in dynamic decision making](https://www.sciencedirect.com/science/article/abs/pii/S0364021303000314), Cognitive Science, 27, 591-635. DOI: 10.1016/S0364-0213(03)00031-4.\n",
    "\n",
    "<b id=\"f2\">[2]</b> Thuy Ngoc Nguyen, Duy Nhat Phan, Cleotilde Gonzalez (2021), [SpeedyIBL: A Solution to the Curse of Exponential Growth in Instance-Based Learning Models of Decisions from Experience](https://pypi.org/project/speedyibl/)"
   ]
  },
  {
   "cell_type": "markdown",
   "metadata": {
    "id": "q15DheVPZYUm"
   },
   "source": [
    "##Installing SpeedyIBL\n",
    "Note that the speedyibl library is a Python module, which is stored at PyPI (pypi.org), a repository of software for the Python programming language, see https://pypi.org/project/speedyibl/. Hence, installing SpeedyIBL is a very simple process. Indeed, one can install SpeedyIBL by simply typing at the command line:\n"
   ]
  },
  {
   "cell_type": "code",
   "execution_count": 1,
   "metadata": {
    "colab": {
     "base_uri": "https://localhost:8080/"
    },
    "id": "kGoPYwW6Z5v5",
    "outputId": "066abc04-a081-4c2a-cf13-14a801a2b062"
   },
   "outputs": [
    {
     "name": "stdout",
     "output_type": "stream",
     "text": [
      "Requirement already satisfied: speedyibl in /usr/local/lib/python3.7/dist-packages (0.1.8)\n",
      "Requirement already satisfied: tabulate in /usr/local/lib/python3.7/dist-packages (from speedyibl) (0.8.9)\n",
      "Requirement already satisfied: setuptools>=42 in /usr/local/lib/python3.7/dist-packages (from speedyibl) (57.4.0)\n",
      "Requirement already satisfied: numpy in /usr/local/lib/python3.7/dist-packages (from speedyibl) (1.21.5)\n",
      "Requirement already satisfied: wheel in /usr/local/lib/python3.7/dist-packages (from speedyibl) (0.37.1)\n"
     ]
    }
   ],
   "source": [
    "%pip install -U speedyibl"
   ]
  },
  {
   "cell_type": "markdown",
   "metadata": {
    "id": "gI9OqxTulvbD"
   },
   "source": [
    "#Importing and describing the class Agent of SpeedyIBL\n",
    "\n",
    "After installing the library, we need to import the class Agent of SpeedyIBL by typing:"
   ]
  },
  {
   "cell_type": "code",
   "execution_count": 2,
   "metadata": {
    "id": "I2PAOXX16b-n"
   },
   "outputs": [],
   "source": [
    "from speedyibl import Agent "
   ]
  },
  {
   "cell_type": "markdown",
   "metadata": {
    "id": "zYGYy6H0nTLO"
   },
   "source": [
    "We provide the descriptions of the inputs and main functions of the class Agent in the following tables.\n",
    "\n",
    "```markdown\n",
    "Inputs         | Type          | Description \n",
    "---------------|---------------|-------------------------------------------------------\n",
    "efault_utility | float         | initial utility value for each instance, default = 0.1\n",
    "noise          | float         | noise parameter sigma, default  = 0.25\n",
    "decay          | float         |  decay paremeter d, default = 0.5\n",
    "mismatchPenalty| None or float | mismatch penalty parameter, default = None (without partial matching process)\n",
    "lendeque       | None or int   | maximum size of a deque for each instance that contains \n",
    "                                 timestamps or  None if unbounded, default = 250000\n",
    "------------------------------------------------------------------------------------------\n",
    "\n",
    "Inputs               | Type                      | Description \n",
    "---------------------|---------------------------|-----------------------------------------\n",
    "choose               | list of options           | choose one option from the given list of options\n",
    "respond              | reward                    | add the current timestamp to the instance\n",
    "                                                   of the last option and this reward\n",
    "prepopulate          | option, reward            | initialize time 0 for the instance of this option and reward\n",
    "populate_at          | option, reward, time      | add time to the instance of this option and reward\n",
    "equal_delay_feedback | reward, list of instances | update instances in the list by using this reward\n",
    "instances            | no input                  | show all the instances in the memory\n",
    "-------------------------------------------------------------------------------------------\n",
    "\n",
    "```"
   ]
  },
  {
   "cell_type": "markdown",
   "metadata": {
    "id": "2NaEPg_ksmPT"
   },
   "source": [
    "#Using SpeedyIBL for binary choice task\n",
    "\n",
    "From the list of inputs of the class Agent, although we need 5 inputs to create an IBL agent, by using the defaults for noise, decay, mismatchPenalty, and lendeque, we only need to pass the default_utility = 4.4. Hence we create an IBL agent for the binary choice task as follows:"
   ]
  },
  {
   "cell_type": "code",
   "execution_count": null,
   "metadata": {
    "id": "BJKpo7ijsuN5"
   },
   "outputs": [],
   "source": [
    "agent = Agent(default_utility=4.4)"
   ]
  },
  {
   "cell_type": "markdown",
   "metadata": {
    "id": "ljfEjOQEs284"
   },
   "source": [
    "We then define a list of options for the agent to choose:"
   ]
  },
  {
   "cell_type": "code",
   "execution_count": null,
   "metadata": {
    "id": "K6FYvqhqHLOj"
   },
   "outputs": [],
   "source": [
    "options = ['A','B'] # A is the safe option while B is the risky one"
   ]
  },
  {
   "cell_type": "markdown",
   "metadata": {
    "id": "M3LokGwFs-un"
   },
   "source": [
    "We are ready to make the agent choose one of the two options"
   ]
  },
  {
   "cell_type": "code",
   "execution_count": null,
   "metadata": {
    "id": "izZ45hdhtCtz"
   },
   "outputs": [],
   "source": [
    "choice = agent.choose(options)"
   ]
  },
  {
   "cell_type": "markdown",
   "metadata": {
    "id": "Z0lIGvFjtGhx"
   },
   "source": [
    "We now determine a reward that the agent can receive after choosing one option."
   ]
  },
  {
   "cell_type": "code",
   "execution_count": null,
   "metadata": {
    "id": "6KG_pbiotOFw"
   },
   "outputs": [],
   "source": [
    "import random \n",
    "if choice == 'A':\n",
    "  reward = 3\n",
    "elif random.random() <= 0.8:\n",
    "  reward = 4\n",
    "else:\n",
    "  reward = 0"
   ]
  },
  {
   "cell_type": "markdown",
   "metadata": {
    "id": "b3tZcmuTtc7D"
   },
   "source": [
    "After choosing one option and observing the reward, we use the function respond, see the table above, to store the instance in the memory as follows:"
   ]
  },
  {
   "cell_type": "code",
   "execution_count": null,
   "metadata": {
    "id": "1M8Xl-R8tfmJ"
   },
   "outputs": [],
   "source": [
    "agent.respond(reward)"
   ]
  },
  {
   "cell_type": "markdown",
   "metadata": {
    "id": "VJen-j2jtl-D"
   },
   "source": [
    "We have run one trial for the binary choice task, which includes choosing one option, observing the reward, storing the instance (respond). To conduct 1000 runs of 100 trials, we use two for loops as follows:"
   ]
  },
  {
   "cell_type": "code",
   "execution_count": null,
   "metadata": {
    "id": "5FP8OFk-tt-i"
   },
   "outputs": [],
   "source": [
    "import time # to calculate time\n",
    "runs = 1000 # number of runs (participants)\n",
    "trials = 100 # number of trials (episodes)\n",
    "average_p = [] # to store average of performance (proportion of maximum reward expectation choice)\n",
    "average_time = [] # to save time \n",
    "for r in range(runs):\n",
    "  pmax = []\n",
    "  ttime = [0]\n",
    "  agent.reset() #clear the memory for a new run\n",
    "  for i in range(trials):     \n",
    "    start = time.time()\n",
    "    choice = agent.choose(options) # choose one option from the list of two\n",
    "    # determine the reward that agent can receive\n",
    "    if choice == 'A':\n",
    "      reward = 3\n",
    "    elif random.random() <= 0.8:\n",
    "      reward = 4\n",
    "    else:\n",
    "      reward = 0\n",
    "    # store the instance\n",
    "    agent.respond(reward)\n",
    "    end = time.time()\n",
    "    ttime.append(ttime[-1]+ end - start)\n",
    "    pmax.append(choice == 'B') \n",
    "  average_p.append(pmax) # save performance of each run \n",
    "  average_time.append(ttime) # save time of each run "
   ]
  },
  {
   "cell_type": "markdown",
   "metadata": {
    "id": "YaGtEPIJt7qb"
   },
   "source": [
    "We also provide the following code to plot the running time and performance of this SpeedyIBL agent"
   ]
  },
  {
   "cell_type": "code",
   "execution_count": null,
   "metadata": {
    "colab": {
     "base_uri": "https://localhost:8080/",
     "height": 295
    },
    "id": "XUN2fFRML3X4",
    "outputId": "7e36cce8-8d6e-4284-c92f-47ee71b32565"
   },
   "outputs": [
    {
     "data": {
      "image/png": "[encoded data removed]",
      "text/plain": [
       "<Figure size 864x288 with 2 Axes>"
      ]
     },
     "metadata": {
      "needs_background": "light"
     },
     "output_type": "display_data"
    }
   ],
   "source": [
    "import matplotlib.pyplot as plt\n",
    "import numpy as np \n",
    "plt.rcParams[\"figure.figsize\"] = (12,4)\n",
    "plt.subplot(int('12'+str(1)))\n",
    "plt.plot(range(trials+1), np.mean(np.asarray(average_time),axis=0), 'o-', color='darkgreen', markersize=2, linestyle='--', label='speedyIBL')\n",
    "plt.xlabel('Round')\n",
    "plt.ylabel('Time (s)')\n",
    "plt.title('Runing time')\n",
    "plt.legend()\n",
    "plt.subplot(int('12'+str(2)))\n",
    "plt.plot(range(trials), np.mean(np.asarray(average_p),axis=0), 'o-', color='darkgreen', markersize=2, linestyle='--', label='speedyIBL')\n",
    "plt.xlabel('Round')\n",
    "plt.ylabel('PMAX')\n",
    "plt.title('Performance')\n",
    "plt.legend()\n",
    "plt.grid(True)\n",
    "plt.show()"
   ]
  },
  {
   "cell_type": "markdown",
   "metadata": {
    "id": "S0a25XuBuO-w"
   },
   "source": [
    "We also would like to note that the codes of both SpeedyIBL and PyIBL for generating the results of the binary choice task in the paper are available at https://github.com/DDM-Lab/SpeedyIBL/blob/main/Codes/binarychoice.py. To plot the results, please see https://github.com/DDM-Lab/SpeedyIBL/blob/main/Codes/plot_results.ipynb. "
   ]
  },
  {
   "cell_type": "markdown",
   "metadata": {
    "id": "-jmodnd_uZvQ"
   },
   "source": [
    "#Using SpeedyIBL for Cooperative Navigation task\n",
    "\n",
    "First, let us build an environment class of the navigation task. Although constructing an environment depends on specific tasks, it consists of two main functions: reset and step. The reset function sets the agents to their starting locations at beginning of each episode while the step function moves the agents to new locations and returns a new state, reward, and task status (task finished or not) after they made decisions."
   ]
  },
  {
   "cell_type": "code",
   "execution_count": null,
   "metadata": {
    "id": "rbjf-MNzSnuH"
   },
   "outputs": [],
   "source": [
    "import numpy as np\n",
    "import copy\n",
    "class Environment(object):\n",
    "  def __init__(self):\n",
    "    #Initialize elements if the task including size of grid-world, number of agents, pixel values of agents, landmark, initial locations of agents and landmarks \n",
    "    self.GH = 16 #height of grid world\n",
    "    self.GW = 16 #width of grid world\n",
    "    self.NUMBER_OF_AGENTS = 3 #number of agents\n",
    "    self.AGENTS = [240.0, 200.0, 150] #pixel values of [Agent1, Agent2, Agent3]\n",
    "    self.LANDMARKS = [40, 50, 60] #pixel values of landmarks\n",
    "    self.AGENTS_X = [0, self.GW-1, 0] #x-coordinates of initial locations of agents\n",
    "    self.AGENTS_Y = [0, 0, self.GH-1]  #y-coordinates of initial locations of agents\n",
    "    MID = 8\n",
    "    self.LANDMARK_LOCATIONS = [(MID-2,MID-2),(MID+1,MID-2),(MID-2, MID+1)] #locations of landmarks\n",
    "    self.ACTIONS = 4 # move up, down, left, righ\n",
    "    \n",
    "  def reset(self):\n",
    "    # '''\n",
    "    # Reset everything. \n",
    "    # '''\n",
    "    self.s_t = np.zeros([self.GH,self.GW], dtype=np.float64) #create an array that represents states of the grid-world \n",
    "    # Agents and landmarks are initialised:\n",
    "    # Agent x and y positions can be set in the following lists.\n",
    "    self.agents_x = copy.deepcopy(self.AGENTS_X)\n",
    "    self.agents_y = copy.deepcopy(self.AGENTS_Y)\n",
    "    self.agent_status= [False for i in range(self.NUMBER_OF_AGENTS)]\n",
    "    #Set pixel values of agents\n",
    "    for i in range(self.NUMBER_OF_AGENTS):\n",
    "        self.s_t[self.agents_y[i]][self.agents_x[i]] += self.AGENTS[i]\n",
    "    #Initialize the landmarks in the environment\n",
    "    for l,p in zip(self.LANDMARK_LOCATIONS,self.LANDMARKS):\n",
    "      self.s_t[l[1]][l[0]] = p\n",
    "    self.reached_landmarks = []\n",
    "    return self.s_t\n",
    "  def step(self, actions):\n",
    "  # '''\n",
    "  # Change environment state based on actions.\n",
    "  # :param actions: List of integers providing actions for each agent\n",
    "  # '''\n",
    "    #Move agents according to actions.\n",
    "    for i in range(self.NUMBER_OF_AGENTS):\n",
    "      if not self.agent_status[i]:\n",
    "        dx, dy = self.getDelta(actions[i])\n",
    "        targetx = self.agents_x[i] + dx\n",
    "        targety = self.agents_y[i] + dy\n",
    "        if self.noCollision(targetx, targety):\n",
    "          self.s_t[self.agents_y[i]][self.agents_x[i]] -= self.AGENTS[i]\n",
    "          self.s_t[targety][targetx] += self.AGENTS[i]\n",
    "          self.agents_x[i] = targetx\n",
    "          self.agents_y[i] = targety\n",
    "          if (targetx,targety) in self.LANDMARK_LOCATIONS:\n",
    "            self.agent_status[i] = True\n",
    "            if (targetx,targety) not in self.reached_landmarks:\n",
    "              self.reached_landmarks.append((targetx,targety))\n",
    "    terminal = sum(self.agent_status) == 3\n",
    "    reward = len(self.reached_landmarks)\n",
    "    return self.s_t, reward, terminal \n",
    "\n",
    "  def getDelta(self, action):\n",
    "    # '''\n",
    "    # Determine the direction that the agent should take based upon the action selected. The actions are: 'Up':0, 'Right':1, 'Down':2, 'Left':3, :param action: int\n",
    "    # '''\n",
    "    if action == 0:\n",
    "      return 0, -1\n",
    "    elif action == 1:\n",
    "      return 1, 0    \n",
    "    elif action == 2:\n",
    "      return 0, 1    \n",
    "    elif action == 3:\n",
    "      return -1, 0\n",
    "    elif action == 4:\n",
    "      return 0, 0 \n",
    "  def noCollision(self, x, y):\n",
    "    # '''\n",
    "    # Checks if x, y coordinate is currently empty \n",
    "    # :param x: Int, x coordinate\n",
    "    # :param y: Int, y coordinate\n",
    "    # '''\n",
    "    if x < 0 or x >= self.GW or\\\n",
    "      y < 0 or y >= self.GH or\\\n",
    "      self.s_t[y][x] in self.AGENTS:\n",
    "      return False\n",
    "    else:\n",
    "      return True"
   ]
  },
  {
   "cell_type": "markdown",
   "metadata": {
    "id": "1Z3QSyfjuyOh"
   },
   "source": [
    "Now, we can call the environment and reset it as follows:"
   ]
  },
  {
   "cell_type": "code",
   "execution_count": null,
   "metadata": {
    "id": "dui1ZZ_uuxrN"
   },
   "outputs": [],
   "source": [
    "env = Environment()\n",
    "s = env.reset()"
   ]
  },
  {
   "cell_type": "markdown",
   "metadata": {
    "id": "O-lfGNBzu2sG"
   },
   "source": [
    "Like the binary choice task, we define three agents with default\\_utility=2.5 ans save them in a list agents:"
   ]
  },
  {
   "cell_type": "code",
   "execution_count": null,
   "metadata": {
    "id": "EEN_Kc-s4RU8"
   },
   "outputs": [],
   "source": [
    "number_agents = 3\n",
    "agents = []\n",
    "episode_history = {}\n",
    "for i in range(number_agents): \n",
    "  agents.append(Agent(default_utility=2.5))\n",
    "  episode_history[i] = []"
   ]
  },
  {
   "cell_type": "markdown",
   "metadata": {
    "id": "n93tqXihu8fC"
   },
   "source": [
    "Here, we have used a dictionary episode\\_history to save information of each episode that we will use for the delay feedback mechanism.  Next, we create a list of options"
   ]
  },
  {
   "cell_type": "code",
   "execution_count": null,
   "metadata": {
    "id": "XeDFeCls9N99"
   },
   "outputs": [],
   "source": [
    "s_hash = hash(s.tobytes())\n",
    "options = [(s_hash, a) for a in range(env.ACTIONS)]"
   ]
  },
  {
   "cell_type": "markdown",
   "metadata": {
    "id": "A3khmE5qvCwi"
   },
   "source": [
    "Here we have used the hash function to convert an array into a hashable object used as a key in a Python dictionary. Now we make the agents choose their options and save instances."
   ]
  },
  {
   "cell_type": "code",
   "execution_count": null,
   "metadata": {
    "id": "8tjpmAD6u0a_"
   },
   "outputs": [],
   "source": [
    "actions = [4,4,4]\n",
    "for i in range(number_agents):\n",
    "  if not env.agent_status[i]:\n",
    "    option = agents[i].choose(options)\n",
    "    actions[i] = option[1]\n",
    "    agents[i].respond(0)\n",
    "    episode_history[i].append((option[0],option[1],0,agents[i].t))\n"
   ]
  },
  {
   "cell_type": "markdown",
   "metadata": {
    "id": "gJPyV68wvUDj"
   },
   "source": [
    "After choosing actions, the locations of the agents are updated in the environment by the step function:"
   ]
  },
  {
   "cell_type": "code",
   "execution_count": null,
   "metadata": {
    "id": "vT-Hy9jhCKAh"
   },
   "outputs": [],
   "source": [
    "s, reward, t = env.step(actions)"
   ]
  },
  {
   "cell_type": "markdown",
   "metadata": {
    "id": "j_Z8vKWQvZ-t"
   },
   "source": [
    "When the agents finish the task (reach landmarks, i.e., t = True) or they reach the maximum number of steps, we update outcomes of previous instances by an equal delay feedback mechanism."
   ]
  },
  {
   "cell_type": "code",
   "execution_count": null,
   "metadata": {
    "id": "EMzuDIlIFNET"
   },
   "outputs": [],
   "source": [
    "for i in range(number_agents):\n",
    "  agents[i].equal_delay_feedback(reward, episode_history[i])"
   ]
  },
  {
   "cell_type": "markdown",
   "metadata": {
    "id": "DN2KcEvave-1"
   },
   "source": [
    "In order to run 100 times of 100 episodes with 2500 steps, we use three for loops below."
   ]
  },
  {
   "cell_type": "code",
   "execution_count": null,
   "metadata": {
    "id": "JyjUYsEcLofK"
   },
   "outputs": [],
   "source": [
    "import time # to calculate time\n",
    "runs = 100 # number of runs (participants)\n",
    "trials = 100 # number of trials (episodes)\n",
    "steps = 2500 # number of steps \n",
    "average_p = [] # to store average of performance (proportion of maximum reward expectation choice)\n",
    "average_time = [] # to save time \n",
    "\n",
    "for r in range(runs):\n",
    "  preward = []\n",
    "  ttime = [0]\n",
    "  #clear the memory for a new run\n",
    "  for i in range(number_agents): \n",
    "    agents[i].reset()\n",
    "    episode_history[i] = []\n",
    "  for e in range(trials):     \n",
    "    start = time.time()\n",
    "    s = env.reset()\n",
    "    # clear the previous episode\n",
    "    for i in range(number_agents): \n",
    "      episode_history[i] = []\n",
    "    for j in range(steps):\n",
    "      s_hash = hash(s.tobytes())\n",
    "      options = [(s_hash, a) for a in range(env.ACTIONS)]\n",
    "      # choose one option from the list\n",
    "      actions = [4,4,4]\n",
    "      for i in range(number_agents):\n",
    "        if not env.agent_status[i]:\n",
    "          option = agents[i].choose(options)\n",
    "          actions[i] = option[1]\n",
    "          agents[i].respond(0)\n",
    "          episode_history[i].append((option[0],option[1],0,agents[i].t)) # save information\n",
    "      s, reward, t = env.step(actions)\n",
    "      if t or j == steps-1:\n",
    "        for i in range(number_agents):\n",
    "          agents[i].equal_delay_feedback(reward, episode_history[i])\n",
    "        break \n",
    "    end = time.time()\n",
    "    ttime.append(ttime[-1]+ end - start)\n",
    "    preward.append(reward) \n",
    "  average_p.append(preward) # save performance of each run \n",
    "  average_time.append(ttime) # save time of each run "
   ]
  },
  {
   "cell_type": "markdown",
   "metadata": {
    "id": "LGTVtQboviQp"
   },
   "source": [
    "We can use the same source code in the binary choice task to plot the results. We would like to remark that we created a Python module \\texttt{vitenv} containing all the environment in the paper, which is available at https://pypi.org/project/vitenv/. Codes of the environments of other tasks and this tutorial also available at our Github link. "
   ]
  },
  {
   "cell_type": "code",
   "execution_count": null,
   "metadata": {
    "colab": {
     "base_uri": "https://localhost:8080/",
     "height": 295
    },
    "id": "s2Wldzn7O_lI",
    "outputId": "f7f4171d-e680-4420-8ffb-b72e470dd342"
   },
   "outputs": [
    {
     "data": {
      "image/png": "[encoded data removed]",
      "text/plain": [
       "<Figure size 864x288 with 2 Axes>"
      ]
     },
     "metadata": {
      "needs_background": "light"
     },
     "output_type": "display_data"
    }
   ],
   "source": [
    "import matplotlib.pyplot as plt\n",
    "plt.rcParams[\"figure.figsize\"] = (12,4)\n",
    "plt.subplot(int('12'+str(1)))\n",
    "plt.plot(range(trials+1), np.mean(np.asarray(average_time),axis=0), 'o-', color='darkgreen', markersize=2, linestyle='--', label='speedyIBL')\n",
    "plt.xlabel('Episode')\n",
    "plt.ylabel('Time (s)')\n",
    "plt.title('Runing time')\n",
    "plt.legend()\n",
    "plt.subplot(int('12'+str(2)))\n",
    "plt.plot(range(trials), np.mean(np.asarray(average_p),axis=0), 'o-', color='darkgreen', markersize=2, linestyle='--', label='speedyIBL')\n",
    "plt.xlabel('Episode')\n",
    "plt.ylabel('Average Reward')\n",
    "plt.title('Performance')\n",
    "plt.legend()\n",
    "plt.grid(True)\n",
    "plt.show()"
   ]
  },
  {
   "cell_type": "markdown",
   "metadata": {
    "id": "eGhUW92WDxar"
   },
   "source": [
    "#Using SpeedyIBL for Insider Attack Game\n",
    "\n",
    "In this game, players take the role of the attacker and their goal is to score points by “hacking” computers to steal proprietary data."
   ]
  },
  {
   "cell_type": "code",
   "execution_count": 3,
   "metadata": {
    "id": "zhjr7W84DyKA"
   },
   "outputs": [],
   "source": [
    "import time \n",
    "import random\n",
    "TARGETS = [ [ { \"payment\": 2, \"penalty\":  -1, \"monitored_probability\": 0.22 },\n",
    "              { \"payment\": 8, \"penalty\":  -5, \"monitored_probability\": 0.51 },\n",
    "              { \"payment\": 9, \"penalty\":  -9, \"monitored_probability\": 0.42 },\n",
    "              { \"payment\": 9, \"penalty\": -10, \"monitored_probability\": 0.40 },\n",
    "              { \"payment\": 2, \"penalty\":  -6, \"monitored_probability\": 0.08 },\n",
    "              { \"payment\": 5, \"penalty\":  -5, \"monitored_probability\": 0.36 } ],\n",
    "            [ { \"payment\": 5, \"penalty\":  -3, \"monitored_probability\": 0.41 },\n",
    "              { \"payment\": 8, \"penalty\":  -5, \"monitored_probability\": 0.48 },\n",
    "              { \"payment\": 7, \"penalty\":  -6, \"monitored_probability\": 0.41 },\n",
    "              { \"payment\": 8, \"penalty\":  -9, \"monitored_probability\": 0.37 },\n",
    "              { \"payment\": 5, \"penalty\":  -7, \"monitored_probability\": 0.27 },\n",
    "              { \"payment\": 2, \"penalty\":  -4, \"monitored_probability\": 0.05 } ],\n",
    "            [ { \"payment\": 3, \"penalty\":  -3, \"monitored_probability\": 0.30 },\n",
    "              { \"payment\": 9, \"penalty\":  -4, \"monitored_probability\": 0.60 },\n",
    "              { \"payment\": 6, \"penalty\":  -6, \"monitored_probability\": 0.40 },\n",
    "              { \"payment\": 5, \"penalty\":  -8, \"monitored_probability\": 0.29 },\n",
    "              { \"payment\": 3, \"penalty\":  -6, \"monitored_probability\": 0.20 },\n",
    "              { \"payment\": 2, \"penalty\":  -2, \"monitored_probability\": 0.20 } ],\n",
    "            [ { \"payment\": 4, \"penalty\":  -3, \"monitored_probability\": 0.37 },\n",
    "              { \"payment\": 6, \"penalty\":  -3, \"monitored_probability\": 0.51 },\n",
    "              { \"payment\": 7, \"penalty\":  -7, \"monitored_probability\": 0.40 },\n",
    "              { \"payment\": 5, \"penalty\": -10, \"monitored_probability\": 0.24 },\n",
    "              { \"payment\": 5, \"penalty\":  -9, \"monitored_probability\": 0.26 },\n",
    "              { \"payment\": 3, \"penalty\":  -4, \"monitored_probability\": 0.23 } ] ]\n",
    "\n",
    "COVERAGE = [ [ { 2, 6 }, { 2, 4 }, { 2, 5 }, { 2, 4 }, { 1, 3 },\n",
    "               { 2, 4 }, { 1, 3 }, { 1, 3 }, { 2, 4 }, { 2, 6 },\n",
    "               { 2, 6 }, { 2, 4 }, { 1, 3 }, { 2, 4 }, { 2, 4 },\n",
    "               { 1, 3 }, { 3, 6 }, { 2, 4 }, { 2, 4 }, { 3, 6 },\n",
    "               { 1, 3 }, { 2, 4 }, { 3, 6 }, { 2, 4 }, { 1, 3 } ],\n",
    "             [ { 2, 5 }, { 1, 3 }, { 1, 3 }, { 3, 6 }, { 1, 3 },\n",
    "               { 2, 4 }, { 1, 3 }, { 2, 4 }, { 1, 3 }, { 1, 4 },\n",
    "               { 1, 3 }, { 1, 3 }, { 2, 5 }, { 1, 3 }, { 1, 3 },\n",
    "               { 1, 3 }, { 2, 5 }, { 2, 4 }, { 2, 4 }, { 1, 3 },\n",
    "               { 1, 3 }, { 2, 4 }, { 2, 4 }, { 3, 6 }, { 2, 5 } ],\n",
    "             [ { 2, 5 }, { 3, 6 }, { 2, 4 }, { 2, 5 }, { 2, 5 },\n",
    "               { 2, 6 }, { 2, 6 }, { 1, 3 }, { 2, 4 }, { 1, 3 },\n",
    "               { 2, 4 }, { 1, 3 }, { 1, 3 }, { 2, 6 }, { 2, 5 },\n",
    "               { 1, 3 }, { 2, 4 }, { 1, 3 }, { 2, 4 }, { 2, 5 },\n",
    "               { 2, 4 }, { 2, 4 }, { 2, 6 }, { 1, 3 }, { 2, 4 } ],\n",
    "             [ { 2, 5 }, { 1, 4 }, { 3, 6 }, { 2, 6 }, { 1, 3 },\n",
    "               { 1, 4 }, { 1, 3 }, { 2, 5 }, { 2, 6 }, { 1, 3 },\n",
    "               { 1, 3 }, { 3, 6 }, { 2, 4 }, { 1, 4 }, { 1, 4 },\n",
    "               { 1, 3 }, { 1, 3 }, { 1, 4 }, { 1, 3 }, { 2, 5 },\n",
    "               { 3, 6 }, { 1, 3 }, { 1, 3 }, { 3, 6 }, { 1, 4 } ] ]\n",
    "\n",
    "TRAINING_COVERAGE = [ { 2, 5 }, { 2, 4 }, { 1 , 3 }, { 1, 3 }, { 1, 3 } ]\n",
    "\n",
    "SIGNALS = [ [ { 3, 4 }, { 3, 6 }, { 3, 6 }, { 3, 5, 6 }, { 2, 6 },\n",
    "              { 3, 6 }, { 2, 4}, { 2, 6 }, { 3, 6 }, { 1, 3, 4 },\n",
    "              { 3, 4 }, { 1, 3 }, { 4, 6 }, { 5}, { 3, 6 },\n",
    "              { 2, 4 }, { 5 }, { 3 }, { 6 }, { 2, 4 },\n",
    "              { 2, 4 }, set(), {2, 4, 5 }, { 3 }, { 5, 6 } ],\n",
    "            [ { 3, 4 }, { 2, 4 }, { 2, 4, 5 }, { 4, 5 }, { 4, 5 },\n",
    "              { 1, 3, 6 }, { 2 }, { 3 }, { 5 }, set(),\n",
    "              { 2, 5 }, { 2, 5 }, {3, 4 }, { 2, 5 }, { 2, 4, 5 },\n",
    "              { 4, 5 }, { 3, 4 }, { 3, 5, 6 }, { 1, 5}, { 2, 5 },\n",
    "              { 2 }, { 1, 5 }, { 1, 3, 5 }, { 4 }, { 1, 3, 4, 6 } ],\n",
    "            [ { 1, 3, 6 }, { 2, 4 }, set(), { 1, 3, 4 }, { 3 },\n",
    "              { 1, 4, 5 }, { 5 }, { 2, 4}, { 1, 3, 5 }, set(),\n",
    "              { 1, 3, 5 }, { 2 }, { 2, 4, 5 }, { 5 }, { 3, 4 },\n",
    "              { 2, 4, 5, 6 }, { 1, 3, 5 }, { 2, 4, 6 }, { 1, 3 }, { 1, 4 },\n",
    "              { 5 }, {3 }, set(), { 2, 5, 6 }, { 1, 3, 5, 6 } ],\n",
    "            [ { 6 }, { 3 }, { 2, 4 }, { 4, 5}, { 6 },\n",
    "              { 3, 5 }, { 4 }, { 3, 4, 6 }, { 1, 3, 4, 5 }, { 2, 4, 6 },\n",
    "              {4, 5 }, { 2, 5 }, { 1, 5, 6 }, { 2, 3, 6 }, { 2, 3 },\n",
    "              { 5 }, { 2, 4, 5, 6 }, { 2, 3, 5, 6 }, { 2, 4, 5 }, { 1, 3, 4, 6 },\n",
    "              { 2, 4, 5 }, { 4, 5 }, { 4 }, { 4, 5 }, { 3, 5, 6 } ] ]\n",
    "\n",
    "TRAINING_SIGNALS = [ { 3, 4 }, {1, 3, 6 }, { 5 }, { 2, 5 }, {2, 4, 5} ]\n",
    "\n",
    "for clist, slist in zip(COVERAGE, SIGNALS):\n",
    "    for c, s in zip(clist, slist):\n",
    "        s.update(c)\n",
    "\n",
    "TARGET_COUNT = len(TARGETS[0])\n",
    "BLOCKS = len(TARGETS)\n",
    "TRIALS = len(COVERAGE[0])\n",
    "\n",
    "selection_agent = Agent(default_utility=None,mismatchPenalty = 2.5)\n",
    "attack_agent = Agent(default_utility=None)\n",
    "selection_agent.similarity([0,1], lambda x, y: 1 - abs(x - y) / 10)\n",
    "selection_agent.similarity([2], lambda x, y: 1 - abs(x -y))\n",
    "\n",
    "attacks = [0] * BLOCKS * TRIALS\n",
    "\n",
    "runs = 1000 # number of runs (participants)\n",
    "data = []\n",
    "average_time = [] # to save time \n",
    "\n",
    "for p in range(runs):\n",
    "  total = 0\n",
    "  ttime = [0]\n",
    "  selection_agent.reset()\n",
    "  selection_agent.similarity([0,1], lambda x, y: 1 - abs(x - y) / 10)\n",
    "  selection_agent.similarity([2], lambda x, y: 1 - abs(x -y))\n",
    "  \n",
    "  attack_agent.reset()\n",
    "  dup = random.randrange(5)\n",
    "  for i in range(5):\n",
    "      n = random.randrange(TARGET_COUNT)\n",
    "      x = TARGETS[1][n]\n",
    "      covered = n + 1 in TRAINING_COVERAGE[i]\n",
    "      selection_agent.prepopulate(((x[\"payment\"],\n",
    "                                                x[\"penalty\"],\n",
    "                                                x[\"monitored_probability\"]), i + 1),\n",
    "                                                x[\"penalty\" if covered else \"payment\"])\n",
    "      attack_agent.prepopulate((True, n + 1 in TRAINING_SIGNALS[i]),x[\"penalty\" if covered else \"payment\"])\n",
    "      if i == dup:\n",
    "          # x = TARGETS[1][5]\n",
    "          selection_agent.prepopulate(((x[\"payment\"],\n",
    "                                      x[\"penalty\"],\n",
    "                                      x[\"monitored_probability\"]), 6),\n",
    "                                      x[\"penalty\" if covered else \"payment\"])\n",
    "  attack_agent.prepopulate((False,False),0)\n",
    "  attack_agent.prepopulate((False,True),0)\n",
    "  attack_agent.prepopulate((True,False),10)\n",
    "  attack_agent.prepopulate((False,True),5)\n",
    "  \n",
    "  for b in range(BLOCKS):\n",
    "    start = time.time()\n",
    "    sds = [ ((x[\"payment\"],\n",
    "                                      x[\"penalty\"],\n",
    "                                      x[\"monitored_probability\"]), i + 1)\n",
    "                      for x, i in zip(TARGETS[b], range(TARGET_COUNT)) ]\n",
    "\n",
    "    for t in range(TRIALS):\n",
    "      selected = selection_agent.choose(sds)[1]\n",
    "      warned = selected in SIGNALS[b][t]\n",
    "      pmnt = TARGETS[b][selected - 1][\"payment\"]\n",
    "      attack = attack_agent.choose([(True, warned),\n",
    "                                    (False, warned)])[0]\n",
    "      covered = selected in COVERAGE[b][t]\n",
    "      if not attack:\n",
    "          payoff = 0\n",
    "      else:\n",
    "          payoff = TARGETS[b][selected - 1][\"penalty\" if covered else \"payment\"]\n",
    "          attacks[b * 25 + t] += 1\n",
    "      total += payoff\n",
    "      attack_agent.respond(payoff)\n",
    "      selection_agent.respond(payoff)\n",
    "      data.append([p+1, b+1,t+1,b*25+t+1, selected, int(warned), int(covered),int(attack),payoff, total])\n",
    "      end = time.time()\n",
    "      ttime.append(ttime[-1]+ end - start)\n",
    "  average_time.append(ttime)\n",
    "\n"
   ]
  },
  {
   "cell_type": "markdown",
   "metadata": {
    "id": "phro16IPGJfp"
   },
   "source": [
    "Plot the result"
   ]
  },
  {
   "cell_type": "code",
   "execution_count": 4,
   "metadata": {
    "colab": {
     "base_uri": "https://localhost:8080/",
     "height": 295
    },
    "id": "RlGGCS6vGJtu",
    "outputId": "d85f4de5-6e20-45a3-a05c-e4d8eab7ffab"
   },
   "outputs": [
    {
     "data": {
      "image/png": "[encoded data removed]",
      "text/plain": [
       "<Figure size 864x288 with 2 Axes>"
      ]
     },
     "metadata": {
      "needs_background": "light"
     },
     "output_type": "display_data"
    }
   ],
   "source": [
    "import matplotlib.pyplot as plt\n",
    "import numpy as np \n",
    "import pandas as pd \n",
    "plt.rcParams[\"figure.figsize\"] = (12,4)\n",
    "plt.subplot(int('12'+str(1)))\n",
    "plt.plot(range(101), np.mean(np.asarray(average_time),axis=0), 'o-', color='darkgreen', markersize=2, linestyle='--', label='speedyIBL')\n",
    "plt.xlabel('Round')\n",
    "plt.ylabel('Time (s)')\n",
    "plt.title('Runing time')\n",
    "plt.legend()\n",
    "plt.subplot(int('12'+str(2)))\n",
    "df = pd.DataFrame(data)\n",
    "plt.plot(range(1,101), df.groupby(3).mean()[8], 'o-', color='darkgreen', markersize=2, linewidth =2, linestyle='--',label='SpeedyIBL')\n",
    "plt.xlabel('Round')\n",
    "plt.ylabel('Average Reward')\n",
    "plt.title('Performance')\n",
    "plt.legend()\n",
    "plt.grid(True)\n",
    "plt.show()"
   ]
  },
  {
   "cell_type": "markdown",
   "metadata": {
    "id": "YU3suhocJJbe"
   },
   "source": [
    "#Using SpeedyIBL for Minimap\n",
    "\n",
    "### Task description\n",
    "\n",
    "The task is inspired by a search and rescue scenario, which involves an agent being placed in a building with multiple rooms and tasked with rescuing victims. \n",
    "Victims have been scattered across the building and their injuries have different degrees of severity with some needing more urgent care than others. In particular, there are 34 victims grouped into two categories (24 green victims and 10 yellow victims). There are many obstacles (walls) placed in the path forcing the agent to look for alternate routes. The agent's goal is to rescue as many of these victims as possible. The task is simulated as a $93 \\times 50$ grid of cells which represents one floor of this building. Each cell is either empty, an obstacle or a victim. The agent can choose to move left, right, up or down, and only move one cell at a time. "
   ]
  },
  {
   "cell_type": "markdown",
   "metadata": {
    "id": "MKrp_RSbI8yn"
   },
   "source": [
    "Install and call the MINIMAP environment"
   ]
  },
  {
   "cell_type": "code",
   "execution_count": null,
   "metadata": {
    "colab": {
     "base_uri": "https://localhost:8080/"
    },
    "id": "g4Y3t0OBI9mn",
    "outputId": "33cc9bf7-f414-4ad9-e2e8-a9a9dbd4763c"
   },
   "outputs": [
    {
     "name": "stdout",
     "output_type": "stream",
     "text": [
      "Collecting vitenv\n",
      "  Downloading vitenv-0.0.4-py3-none-any.whl (27 kB)\n",
      "Requirement already satisfied: numpy in /usr/local/lib/python3.7/dist-packages (from vitenv) (1.21.5)\n",
      "Requirement already satisfied: opencv-python in /usr/local/lib/python3.7/dist-packages (from vitenv) (4.1.2.30)\n",
      "Installing collected packages: vitenv\n",
      "Successfully installed vitenv-0.0.4\n"
     ]
    }
   ],
   "source": [
    "!pip install -U vitenv\n",
    "from vitenv import Environment\n",
    "env = Environment('MINIMAP_V1')"
   ]
  },
  {
   "cell_type": "markdown",
   "metadata": {
    "id": "lWsyJgnhK_pm"
   },
   "source": [
    "Run experiments"
   ]
  },
  {
   "cell_type": "code",
   "execution_count": null,
   "metadata": {
    "id": "TLhVguYMLATE"
   },
   "outputs": [],
   "source": [
    "import time # to calculate time\n",
    "runs = 2 # number of runs (participants)\n",
    "trials = 100 # number of trials (episodes)\n",
    "steps = 2500 # number of steps \n",
    "average_p = [] # to store average of performance (proportion of maximum reward expectation choice)\n",
    "average_time = [] # to save time \n",
    "\n",
    "agent = Agent(default_utility=0.1)\n",
    "\n",
    "for r in range(runs):\n",
    "  preward = []\n",
    "  ttime = [0]\n",
    "  #clear the memory for a new run\n",
    "  agent.reset()\n",
    "  for e in range(trials):     \n",
    "    start = time.time()\n",
    "    s = env.reset()\n",
    "    # clear the previous episode\n",
    "    episode_history = []\n",
    "    treward = 0\n",
    "    for j in range(steps):\n",
    "      s_hash = hash(s.tobytes())\n",
    "      options = [(s_hash, a) for a in range(4)]\n",
    "      # choose one option from the list\n",
    "      option = agent.choose(options)\n",
    "      action = option[1]\n",
    "      s, reward, t = env.step(action)\n",
    "      agent.respond(reward)\n",
    "      if reward != -0.05:\n",
    "        episode_history.append((option[0],option[1],reward,agent.t)) # save information\n",
    "      if reward > 0:\n",
    "        treward += reward\n",
    "        agent.equal_delay_feedback(reward, episode_history)\n",
    "        episode_history = []\n",
    "      if t or j == steps-1:  \n",
    "        break \n",
    "    end = time.time()\n",
    "    ttime.append(ttime[-1]+ end - start)\n",
    "    preward.append(treward) \n",
    "  average_p.append(preward) # save performance of each run \n",
    "  average_time.append(ttime) # save time of each run "
   ]
  },
  {
   "cell_type": "markdown",
   "metadata": {
    "id": "DT8yeAfZOFu9"
   },
   "source": [
    "plot the results"
   ]
  },
  {
   "cell_type": "code",
   "execution_count": null,
   "metadata": {
    "colab": {
     "base_uri": "https://localhost:8080/",
     "height": 295
    },
    "id": "6p896pA1OH3k",
    "outputId": "a12755bd-0177-4a51-86a8-a9dd6a4281e2"
   },
   "outputs": [
    {
     "data": {
      "image/png": "[encoded data removed]",
      "text/plain": [
       "<Figure size 864x288 with 2 Axes>"
      ]
     },
     "metadata": {
      "needs_background": "light"
     },
     "output_type": "display_data"
    }
   ],
   "source": [
    "import matplotlib.pyplot as plt\n",
    "plt.rcParams[\"figure.figsize\"] = (12,4)\n",
    "plt.subplot(int('12'+str(1)))\n",
    "plt.plot(range(trials+1), np.mean(np.asarray(average_time),axis=0), 'o-', color='darkgreen', markersize=2, linestyle='--', label='speedyIBL')\n",
    "plt.xlabel('Episode')\n",
    "plt.ylabel('Time (s)')\n",
    "plt.title('Runing time')\n",
    "plt.legend()\n",
    "plt.subplot(int('12'+str(2)))\n",
    "plt.plot(range(trials), np.mean(np.asarray(average_p),axis=0), 'o-', color='darkgreen', markersize=2, linestyle='--', label='speedyIBL')\n",
    "plt.xlabel('Episode')\n",
    "plt.ylabel('Average Reward')\n",
    "plt.title('Performance')\n",
    "plt.legend()\n",
    "plt.grid(True)\n",
    "plt.show()"
   ]
  },
  {
   "cell_type": "markdown",
   "metadata": {
    "id": "2Yd_h6dgOX4B"
   },
   "source": [
    "#SpeedyIBL for for Tasks from GymAI"
   ]
  },
  {
   "cell_type": "markdown",
   "metadata": {
    "id": "7zV4itpxOeeA"
   },
   "source": [
    "Install and call the CartPole Task"
   ]
  },
  {
   "cell_type": "code",
   "execution_count": null,
   "metadata": {
    "colab": {
     "base_uri": "https://localhost:8080/"
    },
    "id": "PanxPFkqOhdE",
    "outputId": "7e8bd474-0185-4a83-c13a-c795f8856825"
   },
   "outputs": [
    {
     "name": "stdout",
     "output_type": "stream",
     "text": [
      "Requirement already satisfied: gym in /usr/local/lib/python3.7/dist-packages (0.17.3)\n",
      "Requirement already satisfied: scipy in /usr/local/lib/python3.7/dist-packages (from gym) (1.4.1)\n",
      "Requirement already satisfied: cloudpickle<1.7.0,>=1.2.0 in /usr/local/lib/python3.7/dist-packages (from gym) (1.3.0)\n",
      "Requirement already satisfied: pyglet<=1.5.0,>=1.4.0 in /usr/local/lib/python3.7/dist-packages (from gym) (1.5.0)\n",
      "Requirement already satisfied: numpy>=1.10.4 in /usr/local/lib/python3.7/dist-packages (from gym) (1.21.5)\n",
      "Requirement already satisfied: future in /usr/local/lib/python3.7/dist-packages (from pyglet<=1.5.0,>=1.4.0->gym) (0.16.0)\n"
     ]
    }
   ],
   "source": [
    "%pip install gym\n",
    "import gym \n",
    "env = gym.make('CartPole-v1')"
   ]
  },
  {
   "cell_type": "markdown",
   "metadata": {
    "id": "EpaRs1znOiVK"
   },
   "source": [
    "Run experiments"
   ]
  },
  {
   "cell_type": "code",
   "execution_count": null,
   "metadata": {
    "id": "CN2_v64-OikU"
   },
   "outputs": [],
   "source": [
    "import time # to calculate time\n",
    "runs = 2 # number of runs (participants)\n",
    "trials = 100 # number of trials (episodes)\n",
    "steps = 2500 # number of steps \n",
    "average_p = [] # to store average of performance (proportion of maximum reward expectation choice)\n",
    "average_time = [] # to save time \n",
    "\n",
    "agent = Agent(default_utility=11)\n",
    "\n",
    "for r in range(runs):\n",
    "  preward = []\n",
    "  ttime = [0]\n",
    "  #clear the memory for a new run\n",
    "  agent.reset()\n",
    "  for e in range(trials):     \n",
    "    start = time.time()\n",
    "    s = env.reset()\n",
    "    # clear the previous episode\n",
    "    episode_history = []\n",
    "    treward = 0\n",
    "    for j in range(steps):\n",
    "      s_hash = hash(s.tobytes())\n",
    "      options = [(s_hash, a) for a in range(env.action_space.n)]\n",
    "      # choose one option from the list\n",
    "      option = agent.choose(options)\n",
    "      action = option[1]\n",
    "      s, reward, t, info = env.step(action)\n",
    "      agent.respond(reward)\n",
    "\n",
    "      episode_history.append((option[0],option[1],reward,agent.t)) # save information\n",
    "      if reward > 0:\n",
    "        treward += reward\n",
    "        agent.equal_delay_feedback(reward, episode_history)\n",
    "        episode_history = []\n",
    "      if t or j == steps-1:  \n",
    "        break \n",
    "    end = time.time()\n",
    "    ttime.append(ttime[-1]+ end - start)\n",
    "    preward.append(treward) \n",
    "  average_p.append(preward) # save performance of each run \n",
    "  average_time.append(ttime) # save time of each run "
   ]
  },
  {
   "cell_type": "markdown",
   "metadata": {
    "id": "eSm-UfygPw5N"
   },
   "source": [
    "Plot the results"
   ]
  },
  {
   "cell_type": "code",
   "execution_count": null,
   "metadata": {
    "colab": {
     "base_uri": "https://localhost:8080/",
     "height": 295
    },
    "id": "U9Mq6K7vPwCn",
    "outputId": "a711fbd2-9452-4cbb-dacb-dd43af8180af"
   },
   "outputs": [
    {
     "data": {
      "image/png": "[encoded data removed]",
      "text/plain": [
       "<Figure size 864x288 with 2 Axes>"
      ]
     },
     "metadata": {
      "needs_background": "light"
     },
     "output_type": "display_data"
    }
   ],
   "source": [
    "import matplotlib.pyplot as plt\n",
    "plt.rcParams[\"figure.figsize\"] = (12,4)\n",
    "plt.subplot(int('12'+str(1)))\n",
    "plt.plot(range(trials+1), np.mean(np.asarray(average_time),axis=0), 'o-', color='darkgreen', markersize=2, linestyle='--', label='speedyIBL')\n",
    "plt.xlabel('Episode')\n",
    "plt.ylabel('Time (s)')\n",
    "plt.title('Runing time')\n",
    "plt.legend()\n",
    "plt.subplot(int('12'+str(2)))\n",
    "plt.plot(range(trials), np.mean(np.asarray(average_p),axis=0), 'o-', color='darkgreen', markersize=2, linestyle='--', label='speedyIBL')\n",
    "plt.xlabel('Episode')\n",
    "plt.ylabel('Average Reward')\n",
    "plt.title('Performance')\n",
    "plt.legend()\n",
    "plt.grid(True)\n",
    "plt.show()"
   ]
  },
  {
   "cell_type": "markdown",
   "metadata": {
    "id": "P0mhnCAdxdbG"
   },
   "source": [
    "#Reproducing Results\n",
    "\n",
    "All the results can be reproduced by running corresponding scripts for each task under folder **Codes**. In particular, to run the tasks with SpeedyIBL and PyIBL simply execute the following commands and the experiment will start."
   ]
  },
  {
   "cell_type": "markdown",
   "metadata": {
    "id": "uc65FcwVxqfu"
   },
   "source": [
    "##Binary Choice Task\n",
    "```markdown\n",
    "python3 binarychoice.py --method [name]\n",
    "```\n",
    "\n",
    "With argument [name] is replaced by: libl for SpeedyIBL and ibl for PyIBL."
   ]
  },
  {
   "cell_type": "markdown",
   "metadata": {
    "id": "bpTe7_l5yODX"
   },
   "source": [
    "##Insider Attack Game\n",
    "```markdown\n",
    "python3 insider_attack_speedyIBL.py # to run SpeedyIBL\n",
    "python3 insider.py # to run PyIBL\n",
    "```"
   ]
  },
  {
   "cell_type": "markdown",
   "metadata": {
    "id": "Bfo3XkizyoT4"
   },
   "source": [
    "##Minimap\n",
    "```markdown\n",
    "python3 minimap.py --type [name]\n",
    "```\n",
    "\n",
    "With argument [name] is replaced by: libl for SpeedyIBL and ibl for PyIBL. "
   ]
  },
  {
   "cell_type": "markdown",
   "metadata": {
    "id": "Ql9pIWyQzHPh"
   },
   "source": [
    "##MisPac-man\n",
    "```markdown\n",
    "python3 mispacman.py --type [name]\n",
    "```\n",
    "\n",
    "With argument [name] is replaced by: libl for SpeedyIBL and ibl for PyIBL. "
   ]
  },
  {
   "cell_type": "markdown",
   "metadata": {
    "id": "rVeqCbpCzSi8"
   },
   "source": [
    "##Fireman\n",
    "```markdown\n",
    "python3 fireman.py --type [name]\n",
    "```\n",
    "\n",
    "With argument [name] is replaced by: libl for SpeedyIBL and ibl for PyIBL. "
   ]
  },
  {
   "cell_type": "markdown",
   "metadata": {
    "id": "ZTcAXzpLzcoR"
   },
   "source": [
    "##Cooperative Navigation\n",
    "```markdown\n",
    "python3 navigation.py --type [name]\n",
    "```\n",
    "\n",
    "With argument [name] is replaced by: libl for SpeedyIBL and ibl for PyIBL. "
   ]
  }
 ],
 "metadata": {
  "colab": {
   "authorship_tag": "ABX9TyOERg3wQ/AB0n0SveCCMq0v",
   "collapsed_sections": [],
   "include_colab_link": true,
   "name": "tutorial-speedyibl.ipynb",
   "provenance": []
  },
  "kernelspec": {
   "display_name": "Python 3",
   "language": "python",
   "name": "python3"
  },
  "language_info": {
   "codemirror_mode": {
    "name": "ipython",
    "version": 3
   },
   "file_extension": ".py",
   "mimetype": "text/x-python",
   "name": "python",
   "nbconvert_exporter": "python",
   "pygments_lexer": "ipython3",
   "version": "3.7.4"
  }
 },
 "nbformat": 4,
 "nbformat_minor": 1
}
